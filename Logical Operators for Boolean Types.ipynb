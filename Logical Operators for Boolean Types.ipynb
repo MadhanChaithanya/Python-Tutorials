{
 "cells": [
  {
   "cell_type": "markdown",
   "metadata": {},
   "source": [
    "# Logical  Operators : and, or, not"
   ]
  },
  {
   "cell_type": "markdown",
   "metadata": {},
   "source": [
    "These are logical operators but you can apply these oeprators for boolean types and non-boolean types also.\n",
    "\n",
    "But the behaviour is different.\n",
    "\n",
    "### For boolean types:\n",
    "\n",
    "### and =====> returns True =====> if both arguments are True\n",
    "#### True and True       ====> True\n",
    "#### True and False      ====> False\n",
    "#### False and True      ====> False\n",
    "#### False and False    ====> False\n"
   ]
  },
  {
   "cell_type": "code",
   "execution_count": 2,
   "metadata": {},
   "outputs": [
    {
     "name": "stdout",
     "output_type": "stream",
     "text": [
      "True\n",
      "False\n",
      "False\n",
      "False\n"
     ]
    }
   ],
   "source": [
    "# Example Code\n",
    "\n",
    "print(True and True)\n",
    "\n",
    "print(True and False)\n",
    "\n",
    "print(False and True)\n",
    "\n",
    "print(False and False)"
   ]
  },
  {
   "cell_type": "markdown",
   "metadata": {},
   "source": [
    "### or =====> returns True ==> if atleast one argument is True"
   ]
  },
  {
   "cell_type": "markdown",
   "metadata": {},
   "source": [
    "#### True or True       ====> True\n",
    "#### True or False      ====> True\n",
    "#### False or True      ====> True\n",
    "#### False or False    ====> False"
   ]
  },
  {
   "cell_type": "code",
   "execution_count": 3,
   "metadata": {},
   "outputs": [
    {
     "name": "stdout",
     "output_type": "stream",
     "text": [
      "True\n",
      "True\n",
      "True\n",
      "False\n"
     ]
    }
   ],
   "source": [
    "# Example Code\n",
    "\n",
    "print(True or True)\n",
    "\n",
    "print(True or False)\n",
    "\n",
    "print(False or True)\n",
    "\n",
    "print(False or False)"
   ]
  },
  {
   "cell_type": "markdown",
   "metadata": {},
   "source": [
    "### not =====> complement ==> reverese operator"
   ]
  },
  {
   "cell_type": "markdown",
   "metadata": {},
   "source": [
    "#### not True   ==> False\n",
    "#### not False  ==> True"
   ]
  },
  {
   "cell_type": "code",
   "execution_count": 4,
   "metadata": {},
   "outputs": [
    {
     "name": "stdout",
     "output_type": "stream",
     "text": [
      "False\n",
      "True\n"
     ]
    }
   ],
   "source": [
    "print(not True)\n",
    "\n",
    "print(not False)"
   ]
  },
  {
   "cell_type": "markdown",
   "metadata": {},
   "source": [
    "If I want to develop a small authentication application with these knowledge.\n",
    "\n",
    "So what I'm going to take? I will read user name and password from the keyboard. \n",
    "\n",
    "--> If a user name is 'Madhan' and password is '1032' then this person is the valid person.\n",
    "\n",
    "--> If a user name and password is not matched then this person is the invalid person."
   ]
  },
  {
   "cell_type": "code",
   "execution_count": 5,
   "metadata": {},
   "outputs": [
    {
     "name": "stdout",
     "output_type": "stream",
     "text": [
      "Enter User Name:Madhan\n",
      "Enter Password:1000\n",
      "InValid User\n"
     ]
    }
   ],
   "source": [
    "username = input('Enter User Name:')\n",
    "password = input('Enter Password:')\n",
    "\n",
    "if username == 'Madhan' and password == '1032':\n",
    "    print('Valid User')\n",
    "else:\n",
    "    print('InValid User')"
   ]
  },
  {
   "cell_type": "code",
   "execution_count": 6,
   "metadata": {},
   "outputs": [
    {
     "name": "stdout",
     "output_type": "stream",
     "text": [
      "Enter User Name:Madhan\n",
      "Enter Password:1032\n",
      "Valid User\n"
     ]
    }
   ],
   "source": [
    "username = input('Enter User Name:')\n",
    "password = input('Enter Password:')\n",
    "\n",
    "if username == 'Madhan' and password == '1032':\n",
    "    print('Valid User')\n",
    "else:\n",
    "    print('InValid User')"
   ]
  },
  {
   "cell_type": "code",
   "execution_count": null,
   "metadata": {},
   "outputs": [],
   "source": []
  }
 ],
 "metadata": {
  "kernelspec": {
   "display_name": "Python 3",
   "language": "python",
   "name": "python3"
  },
  "language_info": {
   "codemirror_mode": {
    "name": "ipython",
    "version": 3
   },
   "file_extension": ".py",
   "mimetype": "text/x-python",
   "name": "python",
   "nbconvert_exporter": "python",
   "pygments_lexer": "ipython3",
   "version": "3.7.4"
  }
 },
 "nbformat": 4,
 "nbformat_minor": 2
}
