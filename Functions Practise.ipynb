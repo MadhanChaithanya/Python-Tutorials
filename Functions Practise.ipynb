{
 "cells": [
  {
   "cell_type": "markdown",
   "metadata": {},
   "source": [
    " # Functions"
   ]
  },
  {
   "cell_type": "markdown",
   "metadata": {},
   "source": [
    "## What are functions?"
   ]
  },
  {
   "cell_type": "markdown",
   "metadata": {},
   "source": [
    "Functions are named blocks of code designed to do one specific job. Functions allow you to write code once that can then be run whenever you need to accomplish the same task. Functions can take in the information they need, and return the information they generate. Using functions effectively makes your programs easier to write, read, test, and fix."
   ]
  },
  {
   "cell_type": "markdown",
   "metadata": {},
   "source": [
    "## Defining a Function\n",
    "The first line of a function is its definition, marked by the keyword def. The name of the function is followed by a set of parentheses and a colon. A docstring, in triple quotes, describes what the function does. The body of a function is indented one level. To call a function, give the name of the function followed by a set of parentheses."
   ]
  },
  {
   "cell_type": "code",
   "execution_count": 1,
   "metadata": {},
   "outputs": [
    {
     "name": "stdout",
     "output_type": "stream",
     "text": [
      "Hello!\n"
     ]
    }
   ],
   "source": [
    "# Making a function:\n",
    "\n",
    "def greet_user():\n",
    "    '''\n",
    "    Display a simple greeting.\n",
    "    '''\n",
    "    print('Hello!')\n",
    "\n",
    "greet_user()"
   ]
  },
  {
   "attachments": {},
   "cell_type": "markdown",
   "metadata": {},
   "source": [
    "## Passing information to a function\n",
    "Information that's passed to a function is called an argument; information that's received by a function is called a parameter. Arguments are included in parentheses after the function's name, and parameters are listed in parentheses in the function's definition."
   ]
  },
  {
   "cell_type": "code",
   "execution_count": 2,
   "metadata": {},
   "outputs": [
    {
     "name": "stdout",
     "output_type": "stream",
     "text": [
      "Hello, Madhan!\n",
      "Hello, Chaithanya!\n"
     ]
    }
   ],
   "source": [
    "# Passing a single argument:\n",
    "\n",
    "def greet_user(username):\n",
    "    print('Hello, '+username+'!')\n",
    "    \n",
    "greet_user('Madhan')\n",
    "\n",
    "greet_user('Chaithanya')"
   ]
  },
  {
   "cell_type": "markdown",
   "metadata": {},
   "source": [
    "## Positional and Keyword arguments\n",
    "The two main kinds of arguments are positional and keyword arguments. When you use positional arguments Python matches the first argument in the function call with the first parameter in the function definition, and so forth. With keyword arguments, you specify which parameter each argument should be assigned to in the function call. When you use keyword arguments, the order of the arguments doesn't matter."
   ]
  },
  {
   "cell_type": "code",
   "execution_count": 4,
   "metadata": {},
   "outputs": [
    {
     "name": "stdout",
     "output_type": "stream",
     "text": [
      "\n",
      "I have a cat.\n",
      "Its name is harry.\n",
      "\n",
      "I have a dog.\n",
      "Its name is willie.\n"
     ]
    }
   ],
   "source": [
    "# using positonal arguments\n",
    "\n",
    "def describe_pet(animal, name):\n",
    "    '''Display information about a pet.'''\n",
    "    print('\\nI have a '+ animal + '.')\n",
    "    print('Its name is '+ name + '.')\n",
    "    \n",
    "describe_pet('cat', 'harry')\n",
    "\n",
    "describe_pet('dog', 'willie')"
   ]
  },
  {
   "cell_type": "code",
   "execution_count": 5,
   "metadata": {},
   "outputs": [
    {
     "name": "stdout",
     "output_type": "stream",
     "text": [
      "\n",
      "I have a cat.\n",
      "Its name is harry.\n",
      "\n",
      "I have a dog.\n",
      "Its name is willie.\n"
     ]
    }
   ],
   "source": [
    "# using keyword arguments:\n",
    "\n",
    "def describe_pet(animal, name):\n",
    "    '''Display information about a pet'''\n",
    "    print('\\nI have a '+ animal + '.')\n",
    "    print('Its name is '+ name + '.')\n",
    "\n",
    "describe_pet(animal='cat', name='harry')\n",
    "\n",
    "describe_pet(name='willie', animal='dog')"
   ]
  },
  {
   "cell_type": "markdown",
   "metadata": {},
   "source": [
    "## Default values\n",
    "You can provide a default value for a parameter. When function calls omit this argument the default value will be used. Parameters with default values must be listed after parameters without default values in the function's definition so positional arguments can still work correctly."
   ]
  },
  {
   "cell_type": "code",
   "execution_count": 6,
   "metadata": {},
   "outputs": [
    {
     "name": "stdout",
     "output_type": "stream",
     "text": [
      "\n",
      "I have a cat.\n",
      "Its name is harry.\n",
      "\n",
      "I have a dog.\n",
      "Its name is willie.\n"
     ]
    }
   ],
   "source": [
    "# using a default value:\n",
    "\n",
    "def describe_pet(name, animal='dog'):\n",
    "    '''Display information about a pet'''\n",
    "    print('\\nI have a '+ animal + '.')\n",
    "    print('Its name is '+ name + '.')\n",
    "    \n",
    "describe_pet('harry', 'cat')\n",
    "\n",
    "describe_pet('willie')"
   ]
  },
  {
   "cell_type": "code",
   "execution_count": 7,
   "metadata": {},
   "outputs": [
    {
     "name": "stdout",
     "output_type": "stream",
     "text": [
      "\n",
      "I have a cat.\n",
      "Its name is hamster.\n",
      "\n",
      "I have a dog.\n",
      "Its name is snake.\n"
     ]
    }
   ],
   "source": [
    "# using None to make an arguement optional:\n",
    "\n",
    "def describe_pet(name, animal='dog'):\n",
    "    '''Display information about a pet'''\n",
    "    print('\\nI have a '+ animal + '.')\n",
    "    if name:\n",
    "        print('Its name is '+ name + '.')\n",
    "\n",
    "describe_pet('hamster', 'cat')\n",
    "\n",
    "describe_pet('snake')\n"
   ]
  },
  {
   "cell_type": "markdown",
   "metadata": {},
   "source": [
    "## Return values\n",
    "A function can retrun a value or a set of values. When a function returns a value, the calling line must provide a variable in which to store the return value. A function stops running when it reaches a return statement."
   ]
  },
  {
   "cell_type": "code",
   "execution_count": 8,
   "metadata": {},
   "outputs": [
    {
     "name": "stdout",
     "output_type": "stream",
     "text": [
      "Madhan Chaithanya\n"
     ]
    }
   ],
   "source": [
    "# Returning a single value:\n",
    "def get_full_name(first, last):\n",
    "    '''Return a neatly formatted full name.'''\n",
    "    full_name = first + ' '+ last\n",
    "    return full_name.title()\n",
    "\n",
    "musician = get_full_name('Madhan', 'Chaithanya')\n",
    "\n",
    "print(musician)"
   ]
  },
  {
   "cell_type": "code",
   "execution_count": 9,
   "metadata": {},
   "outputs": [
    {
     "name": "stdout",
     "output_type": "stream",
     "text": [
      "{'first': 'Madhan', 'last': 'chaithanya'}\n"
     ]
    }
   ],
   "source": [
    "# Returning a dictionary:\n",
    "def build_person(first, last):\n",
    "    '''Return a dictionary of information \n",
    "    about a person.\n",
    "    '''\n",
    "    \n",
    "    person = {'first': first, 'last': last}\n",
    "    return person\n",
    "\n",
    "musician = build_person('Madhan','chaithanya')\n",
    "\n",
    "print(musician)"
   ]
  },
  {
   "cell_type": "code",
   "execution_count": 14,
   "metadata": {},
   "outputs": [
    {
     "name": "stdout",
     "output_type": "stream",
     "text": [
      "{'first': 'Madhan', 'last': 'chaithanya', 'age': 23}\n",
      "{'first': 'GVSM', 'last': 'Madhan'}\n"
     ]
    }
   ],
   "source": [
    "# Returning a dictionary with optional values:\n",
    "\n",
    "def build_person(first, last, age=None):\n",
    "    '''Return a dictionary of information \n",
    "    about a person.\n",
    "    '''\n",
    "    \n",
    "    person = {'first': first, 'last': last}\n",
    "    if age:\n",
    "        person['age']=age\n",
    "    return person\n",
    "\n",
    "musician = build_person('Madhan', 'chaithanya', 23)\n",
    "\n",
    "print(musician)\n",
    "\n",
    "musician = build_person('GVSM', 'Madhan')\n",
    "\n",
    "print(musician)"
   ]
  },
  {
   "cell_type": "markdown",
   "metadata": {},
   "source": [
    "## Passing a list to a function\n",
    "You can pass a list as an argument to a function, and the function can work with the values in the list. Any changes the function makes to the list will affect the original list. You can prevent a function from modifying a list by passing a copy of the list as an argument."
   ]
  },
  {
   "cell_type": "code",
   "execution_count": null,
   "metadata": {},
   "outputs": [],
   "source": [
    "# Passing a list as an argument:\n",
    "def greet_"
   ]
  },
  {
   "cell_type": "code",
   "execution_count": null,
   "metadata": {},
   "outputs": [],
   "source": []
  },
  {
   "cell_type": "code",
   "execution_count": null,
   "metadata": {},
   "outputs": [],
   "source": []
  },
  {
   "cell_type": "code",
   "execution_count": null,
   "metadata": {},
   "outputs": [],
   "source": []
  },
  {
   "cell_type": "code",
   "execution_count": null,
   "metadata": {},
   "outputs": [],
   "source": []
  }
 ],
 "metadata": {
  "kernelspec": {
   "display_name": "Python 3",
   "language": "python",
   "name": "python3"
  },
  "language_info": {
   "codemirror_mode": {
    "name": "ipython",
    "version": 3
   },
   "file_extension": ".py",
   "mimetype": "text/x-python",
   "name": "python",
   "nbconvert_exporter": "python",
   "pygments_lexer": "ipython3",
   "version": "3.7.4"
  }
 },
 "nbformat": 4,
 "nbformat_minor": 2
}
